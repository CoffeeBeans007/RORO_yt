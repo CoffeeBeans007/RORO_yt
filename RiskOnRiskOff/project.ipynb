{
 "cells": [
  {
   "cell_type": "markdown",
   "metadata": {},
   "source": [
    "# Risk-On Risk-Off strategy\n",
    "\n",
    "*Investopedia definition : Risk-on risk-off is an investment setting in which price behavior responds to and is driven by changes in investor risk tolerance. Risk-on risk-off refers to changes in investment activity in response to global economic patterns.*\n",
    "\n",
    "The stock market tends to behave according to the participant's anticipation about the future of the economy. Although anticipation do not always materialize, it is important nonetheless to consider them when making investment decisions. \n",
    "\n",
    "\n",
    "\n",
    "<div style=\"text-align: center;\">\n",
    "<img src=\"img/fredgraph.png\" width=800>\n",
    "<img src=\"img/fredgraphbc.png\" width=800>\n",
    "</div>\n",
    "\n",
    "A leading indicator, is defined as a measurable set of data that may help to forecast future economic activity *(Investopedia)*. Among these, business confidence surveys happen to provide an interesting insight into a company's confidence regarding its future prospects. There are many types of business confidence surveys that may span across the regions of operations, the function of the manager surveyed, the economic sector in which the company operates and much more.\n",
    "\n",
    "We'll use the Business Tendency Surveys for Manufacturing: Confidence Indicators: Composite Indicators: OECD Indicator for the United States. \n",
    "\n",
    "*OECD, \"Main Economic Indicators - complete database\", Main Economic Indicators (database),http://dx.doi.org/10.1787/data-00052-en\n",
    "Copyright, 2016, OECD. Reprinted with permission.*"
   ]
  },
  {
   "cell_type": "markdown",
   "metadata": {},
   "source": [
    "## 0. The imports"
   ]
  },
  {
   "cell_type": "code",
   "execution_count": null,
   "metadata": {},
   "outputs": [],
   "source": []
  },
  {
   "cell_type": "markdown",
   "metadata": {},
   "source": [
    "## 1. Retrieve data\n",
    "\n",
    "### Background information\n",
    "\n",
    "We'll retrieve a list of 8 stocks for a \"risky\" and a \"safe\" portfolio. \n",
    "\n",
    "Stocks in the \"risky\" portfolio, all belong in the information technology sector. The IT sector is considered cyclical, meaning that it tends to react symmetrically with the economy.\n",
    "\n",
    "Stocks in the \"safe\" portfolio, all belong in the consumer staples sector. The CS sector is considered defensive, meaning that it tends to wether through recession very well.\n",
    "\n",
    "Learn more : https://www.investopedia.com/articles/00/082800.asp\n",
    "\n",
    "### What we will do\n",
    "\n",
    "1. Select stocks\n",
    "\n",
    "2. Download stocks using yfinance *(Yahoo Finance)*\n",
    "\n",
    "3. Perform exploratory data analysis\n",
    "\n",
    "4. Construct the two portfolios\n",
    "\n",
    "5. Retrieve the economic indicator\n"
   ]
  },
  {
   "cell_type": "markdown",
   "metadata": {},
   "source": [
    "### Selecting stocks"
   ]
  },
  {
   "cell_type": "code",
   "execution_count": 1150,
   "metadata": {},
   "outputs": [],
   "source": [
    "risky_tickers = [\n",
    "    \"AAPL\",\n",
    "    \"MSFT\",\n",
    "    \"GOOG\",\n",
    "    \"AMZN\",\n",
    "    \"NVDA\",\n",
    "    \"TSLA\",\n",
    "    \"ADBE\",\n",
    "    \"INTC\"\n",
    "]\n",
    "\n",
    "safe_tickers = [\n",
    "    \"PG\",\n",
    "    \"KO\",\n",
    "    \"PEP\",\n",
    "    \"COST\",\n",
    "    \"WMT\",\n",
    "    \"CL\",\n",
    "    \"UL\",\n",
    "    \"KDP\"\n",
    "]\n",
    "\n",
    "assets = {\n",
    "    \"risky\" : risky_tickers,\n",
    "    \"safe\" : safe_tickers,\n",
    "    \"indicator\" : \"BSCICP03USM665S\"\n",
    "}"
   ]
  },
  {
   "cell_type": "markdown",
   "metadata": {},
   "source": [
    "### Downloading the historical data"
   ]
  },
  {
   "cell_type": "code",
   "execution_count": null,
   "metadata": {},
   "outputs": [],
   "source": []
  },
  {
   "cell_type": "markdown",
   "metadata": {},
   "source": [
    "### Exploratory data analysis on the historical stock prices"
   ]
  },
  {
   "cell_type": "code",
   "execution_count": null,
   "metadata": {},
   "outputs": [],
   "source": []
  },
  {
   "cell_type": "markdown",
   "metadata": {},
   "source": [
    "### Creating the two portfolios"
   ]
  },
  {
   "cell_type": "code",
   "execution_count": null,
   "metadata": {},
   "outputs": [],
   "source": []
  },
  {
   "cell_type": "markdown",
   "metadata": {},
   "source": [
    "### Retrieving the economic indicator"
   ]
  },
  {
   "cell_type": "code",
   "execution_count": null,
   "metadata": {},
   "outputs": [],
   "source": []
  },
  {
   "cell_type": "markdown",
   "metadata": {},
   "source": [
    "## 2. Creating the strategy\n",
    "\n",
    "### Background information\n",
    "\n",
    "To create a successful strategy we will need to take necessary precautions to make sure that the business confidence indicator is used properly.\n",
    "\n",
    "There are countless issues that arise when building such a strategy, here are some examples:\n",
    "\n",
    "- The economic indicator is reported on a different schedule that our stock prices (once every month vs daily)\n",
    "\n",
    "- The economic indicator is too volatile and would propose trades that are too aggressive\n",
    "\n",
    "- The economic indicator is cyclical\n",
    "\n",
    "- etc.\n",
    "\n",
    "### What we will do\n",
    "\n",
    "1. Correct and clean the data\n",
    "\n",
    "2. Create a system that ensures that we are protected from the issues stated above\n",
    "\n",
    "3. Create logic that will be able to determine appropriate weighting to use for the final portfolio\n",
    "\n",
    "4. Create an alternative strategy (to test another hyopthesis)\n",
    "\n",
    "5. Measure and backtest our strategies\n"
   ]
  },
  {
   "cell_type": "markdown",
   "metadata": {},
   "source": [
    "### Correct and clean the data"
   ]
  },
  {
   "cell_type": "code",
   "execution_count": null,
   "metadata": {},
   "outputs": [],
   "source": []
  },
  {
   "cell_type": "markdown",
   "metadata": {},
   "source": [
    "### Create a system that ensures that we are protected from the issues stated above\n"
   ]
  },
  {
   "cell_type": "code",
   "execution_count": null,
   "metadata": {},
   "outputs": [],
   "source": []
  },
  {
   "cell_type": "markdown",
   "metadata": {},
   "source": [
    "### Create logic that will be able to determine appropriate weighting to use for the final portfolio"
   ]
  },
  {
   "cell_type": "code",
   "execution_count": null,
   "metadata": {},
   "outputs": [],
   "source": []
  },
  {
   "cell_type": "markdown",
   "metadata": {},
   "source": [
    "### Create an alternative strategy (to test another hyopthesis)\n",
    "\n",
    "The other hypothesis being that radical changes in allocation such as those proposed in the model above will yield negative effects, because of under diversification and transaction fees"
   ]
  },
  {
   "cell_type": "code",
   "execution_count": null,
   "metadata": {},
   "outputs": [],
   "source": []
  },
  {
   "cell_type": "markdown",
   "metadata": {},
   "source": [
    "### Measure and backtest our strategies"
   ]
  },
  {
   "cell_type": "code",
   "execution_count": null,
   "metadata": {},
   "outputs": [],
   "source": []
  },
  {
   "cell_type": "markdown",
   "metadata": {},
   "source": [
    "#### Looking at weekly returns"
   ]
  },
  {
   "cell_type": "code",
   "execution_count": null,
   "metadata": {},
   "outputs": [],
   "source": []
  },
  {
   "cell_type": "markdown",
   "metadata": {},
   "source": [
    "#### Comparing to an index (equally weighted asset classes)"
   ]
  },
  {
   "cell_type": "code",
   "execution_count": null,
   "metadata": {},
   "outputs": [],
   "source": []
  },
  {
   "cell_type": "markdown",
   "metadata": {},
   "source": [
    "#### Why is the seemingly \"better\" alternative not performing better?"
   ]
  },
  {
   "cell_type": "code",
   "execution_count": null,
   "metadata": {},
   "outputs": [],
   "source": []
  },
  {
   "cell_type": "markdown",
   "metadata": {},
   "source": [
    "#### Let's apply our adjustments"
   ]
  },
  {
   "cell_type": "code",
   "execution_count": null,
   "metadata": {},
   "outputs": [],
   "source": []
  },
  {
   "cell_type": "markdown",
   "metadata": {},
   "source": [
    "## 3. Conclusion\n",
    "\n",
    "### About the strategy\n",
    "\n",
    "- Sometimes less is better\n",
    "\n",
    "- Applicability remains a concern (what if we had trading fees ?)\n",
    "\n",
    "- The risk measures we used are limited (risk measures are either too complicated or too limited)\n",
    "\n",
    "\n",
    "### How we can improve our strategy\n",
    "\n",
    "- By including more economic indicators (maximum 5)\n",
    "\n",
    "- By including bonds\n",
    "\n",
    "- By taking into consideration trading fees\n",
    "\n",
    "\n",
    "### What we've learned about the markets\n",
    "\n",
    "- Markets are very difficult to predict\n",
    "\n",
    "- Benchmarks need to be edaquate, and need to be applicable\n",
    "\n",
    "- Correlation between assests largely depends on how the economy is doing"
   ]
  },
  {
   "cell_type": "markdown",
   "metadata": {},
   "source": []
  }
 ],
 "metadata": {
  "interpreter": {
   "hash": "b0fa6594d8f4cbf19f97940f81e996739fb7646882a419484c72d19e05852a7e"
  },
  "kernelspec": {
   "display_name": "Python 3.10.6 64-bit",
   "language": "python",
   "name": "python3"
  },
  "language_info": {
   "codemirror_mode": {
    "name": "ipython",
    "version": 3
   },
   "file_extension": ".py",
   "mimetype": "text/x-python",
   "name": "python",
   "nbconvert_exporter": "python",
   "pygments_lexer": "ipython3",
   "version": "3.10.6"
  },
  "orig_nbformat": 4
 },
 "nbformat": 4,
 "nbformat_minor": 2
}
